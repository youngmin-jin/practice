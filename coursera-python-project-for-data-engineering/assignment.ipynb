{
  "cells": [
    {
      "cell_type": "markdown",
      "metadata": {
        "id": "view-in-github",
        "colab_type": "text"
      },
      "source": [
        "<a href=\"https://colab.research.google.com/github/youngmin-jin/exercise/blob/main/ETL_process_practice.ipynb\" target=\"_parent\"><img src=\"https://colab.research.google.com/assets/colab-badge.svg\" alt=\"Open In Colab\"/></a>"
      ]
    },
    {
      "cell_type": "markdown",
      "metadata": {
        "id": "cnyJCu5eFv7d"
      },
      "source": [
        "<p style=\"text-align:center\">\n",
        "    <a href=\"https://skills.network/?utm_medium=Exinfluencer&utm_source=Exinfluencer&utm_content=000026UJ&utm_term=10006555&utm_id=NA-SkillsNetwork-Channel-SkillsNetworkCoursesIBMDeveloperSkillsNetworkPY0221ENSkillsNetwork899-2023-01-01\">\n",
        "    <img src=\"https://cf-courses-data.s3.us.cloud-object-storage.appdomain.cloud/assets/logos/SN_web_lightmode.png\" width=\"200\" alt=\"Skills Network Logo\"  />\n",
        "    </a>\n",
        "</p>\n"
      ]
    },
    {
      "cell_type": "markdown",
      "metadata": {
        "id": "FHbUL1SFFv7q"
      },
      "source": [
        "# Peer Review Assignment - Data Engineer - ETL\n"
      ]
    },
    {
      "cell_type": "markdown",
      "metadata": {
        "id": "v9A5ZkizFv7s"
      },
      "source": [
        "Estimated time needed: **20** minutes\n"
      ]
    },
    {
      "cell_type": "markdown",
      "metadata": {
        "id": "IoLeD9vyFv7u"
      },
      "source": [
        "## Objectives\n",
        "\n",
        "In this final part you will:\n",
        "\n",
        "- Run the ETL process\n",
        "- Extract bank and market cap data from the JSON file `bank_market_cap.json`\n",
        "- Transform the market cap currency using the exchange rate data\n",
        "- Load the transformed data into a seperate CSV\n"
      ]
    },
    {
      "cell_type": "markdown",
      "metadata": {
        "id": "q-MdOC2qFv7w"
      },
      "source": [
        "For this lab, we are going to be using Python and several Python libraries. Some of these libraries might be installed in your lab environment or in SN Labs. Others may need to be installed by you. The cells below will install these libraries when executed.\n"
      ]
    },
    {
      "cell_type": "code",
      "execution_count": null,
      "metadata": {
        "id": "ozZtXJGqFv7x"
      },
      "outputs": [],
      "source": [
        "#!mamba install pandas==1.3.3 -y\n",
        "#!mamba install requests==2.26.0 -y"
      ]
    },
    {
      "cell_type": "markdown",
      "metadata": {
        "id": "qA916oGKFv72"
      },
      "source": [
        "## Imports\n",
        "\n",
        "Import any additional libraries you may need here.\n"
      ]
    },
    {
      "cell_type": "code",
      "execution_count": null,
      "metadata": {
        "id": "o9gC-L1sFv74"
      },
      "outputs": [],
      "source": [
        "import glob\n",
        "import pandas as pd\n",
        "from datetime import datetime"
      ]
    },
    {
      "cell_type": "markdown",
      "metadata": {
        "id": "v7JV0lDPFv76"
      },
      "source": [
        "As the exchange rate fluctuates, we will download the same dataset to make marking simpler. This will be in the same format as the dataset you used in the last section  \n"
      ]
    },
    {
      "cell_type": "code",
      "execution_count": null,
      "metadata": {
        "collapsed": true,
        "jupyter": {
          "outputs_hidden": true
        },
        "tags": [],
        "id": "UrFUZfYAFv77",
        "outputId": "81878acd-c443-4274-cac6-4f902d3e2bfb"
      },
      "outputs": [
        {
          "name": "stdout",
          "output_type": "stream",
          "text": [
            "--2023-09-11 06:39:53--  https://cf-courses-data.s3.us.cloud-object-storage.appdomain.cloud/IBMDeveloperSkillsNetwork-PY0221EN-SkillsNetwork/labs/module%206/Lab%20-%20Extract%20Transform%20Load/data/bank_market_cap_1.json\n",
            "Resolving cf-courses-data.s3.us.cloud-object-storage.appdomain.cloud (cf-courses-data.s3.us.cloud-object-storage.appdomain.cloud)... 169.63.118.104\n",
            "Connecting to cf-courses-data.s3.us.cloud-object-storage.appdomain.cloud (cf-courses-data.s3.us.cloud-object-storage.appdomain.cloud)|169.63.118.104|:443... connected.\n",
            "HTTP request sent, awaiting response... 200 OK\n",
            "Length: 2815 (2.7K) [application/json]\n",
            "Saving to: ‘bank_market_cap_1.json’\n",
            "\n",
            "bank_market_cap_1.j 100%[===================>]   2.75K  --.-KB/s    in 0s      \n",
            "\n",
            "2023-09-11 06:39:53 (18.4 MB/s) - ‘bank_market_cap_1.json’ saved [2815/2815]\n",
            "\n",
            "--2023-09-11 06:39:54--  https://cf-courses-data.s3.us.cloud-object-storage.appdomain.cloud/IBMDeveloperSkillsNetwork-PY0221EN-SkillsNetwork/labs/module%206/Lab%20-%20Extract%20Transform%20Load/data/bank_market_cap_2.json\n",
            "Resolving cf-courses-data.s3.us.cloud-object-storage.appdomain.cloud (cf-courses-data.s3.us.cloud-object-storage.appdomain.cloud)... 169.63.118.104\n",
            "Connecting to cf-courses-data.s3.us.cloud-object-storage.appdomain.cloud (cf-courses-data.s3.us.cloud-object-storage.appdomain.cloud)|169.63.118.104|:443... connected.\n",
            "HTTP request sent, awaiting response... 200 OK\n",
            "Length: 1429 (1.4K) [application/json]\n",
            "Saving to: ‘bank_market_cap_2.json’\n",
            "\n",
            "bank_market_cap_2.j 100%[===================>]   1.40K  --.-KB/s    in 0s      \n",
            "\n",
            "2023-09-11 06:39:54 (9.07 MB/s) - ‘bank_market_cap_2.json’ saved [1429/1429]\n",
            "\n",
            "--2023-09-11 06:39:55--  https://cf-courses-data.s3.us.cloud-object-storage.appdomain.cloud/IBMDeveloperSkillsNetwork-PY0221EN-SkillsNetwork/labs/module%206/Final%20Assignment/exchange_rates.csv\n",
            "Resolving cf-courses-data.s3.us.cloud-object-storage.appdomain.cloud (cf-courses-data.s3.us.cloud-object-storage.appdomain.cloud)... 169.63.118.104\n",
            "Connecting to cf-courses-data.s3.us.cloud-object-storage.appdomain.cloud (cf-courses-data.s3.us.cloud-object-storage.appdomain.cloud)|169.63.118.104|:443... connected.\n",
            "HTTP request sent, awaiting response... 200 OK\n",
            "Length: 590 [text/csv]\n",
            "Saving to: ‘exchange_rates.csv’\n",
            "\n",
            "exchange_rates.csv  100%[===================>]     590  --.-KB/s    in 0s      \n",
            "\n",
            "2023-09-11 06:39:55 (3.63 MB/s) - ‘exchange_rates.csv’ saved [590/590]\n",
            "\n"
          ]
        }
      ],
      "source": [
        "!wget https://cf-courses-data.s3.us.cloud-object-storage.appdomain.cloud/IBMDeveloperSkillsNetwork-PY0221EN-SkillsNetwork/labs/module%206/Lab%20-%20Extract%20Transform%20Load/data/bank_market_cap_1.json\n",
        "!wget https://cf-courses-data.s3.us.cloud-object-storage.appdomain.cloud/IBMDeveloperSkillsNetwork-PY0221EN-SkillsNetwork/labs/module%206/Lab%20-%20Extract%20Transform%20Load/data/bank_market_cap_2.json\n",
        "!wget https://cf-courses-data.s3.us.cloud-object-storage.appdomain.cloud/IBMDeveloperSkillsNetwork-PY0221EN-SkillsNetwork/labs/module%206/Final%20Assignment/exchange_rates.csv"
      ]
    },
    {
      "cell_type": "markdown",
      "metadata": {
        "tags": [],
        "id": "zpSBrR9mFv8A"
      },
      "source": [
        "## Extract\n"
      ]
    },
    {
      "cell_type": "markdown",
      "metadata": {
        "id": "IOKoJ5yPFv8B"
      },
      "source": [
        "### JSON Extract Function\n",
        "\n",
        "This function will extract JSON files.\n"
      ]
    },
    {
      "cell_type": "code",
      "execution_count": null,
      "metadata": {
        "id": "FWG66fw9Fv8B"
      },
      "outputs": [],
      "source": [
        "def extract_from_json(file_to_process):\n",
        "    dataframe = pd.read_json(file_to_process)\n",
        "    return dataframe"
      ]
    },
    {
      "cell_type": "markdown",
      "metadata": {
        "id": "jO85HWemFv8C"
      },
      "source": [
        "## Extract Function\n",
        "\n",
        "Define the extract function that finds JSON file `bank_market_cap_1.json` and calls the function created above to extract data from them. Store the data in a `pandas` dataframe. Use the following list for the columns.\n"
      ]
    },
    {
      "cell_type": "code",
      "execution_count": null,
      "metadata": {
        "id": "A6BXfDy6Fv8C"
      },
      "outputs": [],
      "source": [
        "columns=['Name','Market Cap (US$ Billion)']"
      ]
    },
    {
      "cell_type": "code",
      "execution_count": null,
      "metadata": {
        "id": "c3fAbjAqFv8D"
      },
      "outputs": [],
      "source": [
        "def extract():\n",
        "    df_bank_market_cap = extract_from_json('bank_market_cap_1.json')\n",
        "    return df_bank_market_cap"
      ]
    },
    {
      "cell_type": "code",
      "execution_count": null,
      "metadata": {
        "tags": [],
        "id": "XE6YY1RRFv8E",
        "outputId": "22ff014d-93fa-408d-871b-3e50ed00985b"
      },
      "outputs": [
        {
          "data": {
            "text/html": [
              "<div>\n",
              "<style scoped>\n",
              "    .dataframe tbody tr th:only-of-type {\n",
              "        vertical-align: middle;\n",
              "    }\n",
              "\n",
              "    .dataframe tbody tr th {\n",
              "        vertical-align: top;\n",
              "    }\n",
              "\n",
              "    .dataframe thead th {\n",
              "        text-align: right;\n",
              "    }\n",
              "</style>\n",
              "<table border=\"1\" class=\"dataframe\">\n",
              "  <thead>\n",
              "    <tr style=\"text-align: right;\">\n",
              "      <th></th>\n",
              "      <th>Name</th>\n",
              "      <th>Market Cap (US$ Billion)</th>\n",
              "    </tr>\n",
              "  </thead>\n",
              "  <tbody>\n",
              "    <tr>\n",
              "      <th>0</th>\n",
              "      <td>JPMorgan Chase</td>\n",
              "      <td>390.934</td>\n",
              "    </tr>\n",
              "    <tr>\n",
              "      <th>1</th>\n",
              "      <td>Industrial and Commercial Bank of China</td>\n",
              "      <td>345.214</td>\n",
              "    </tr>\n",
              "    <tr>\n",
              "      <th>2</th>\n",
              "      <td>Bank of America</td>\n",
              "      <td>325.331</td>\n",
              "    </tr>\n",
              "    <tr>\n",
              "      <th>3</th>\n",
              "      <td>Wells Fargo</td>\n",
              "      <td>308.013</td>\n",
              "    </tr>\n",
              "    <tr>\n",
              "      <th>4</th>\n",
              "      <td>China Construction Bank</td>\n",
              "      <td>257.399</td>\n",
              "    </tr>\n",
              "    <tr>\n",
              "      <th>...</th>\n",
              "      <td>...</td>\n",
              "      <td>...</td>\n",
              "    </tr>\n",
              "    <tr>\n",
              "      <th>65</th>\n",
              "      <td>Ping An Bank</td>\n",
              "      <td>37.993</td>\n",
              "    </tr>\n",
              "    <tr>\n",
              "      <th>66</th>\n",
              "      <td>Standard Chartered</td>\n",
              "      <td>37.319</td>\n",
              "    </tr>\n",
              "    <tr>\n",
              "      <th>67</th>\n",
              "      <td>United Overseas Bank</td>\n",
              "      <td>35.128</td>\n",
              "    </tr>\n",
              "    <tr>\n",
              "      <th>68</th>\n",
              "      <td>QNB Group</td>\n",
              "      <td>33.560</td>\n",
              "    </tr>\n",
              "    <tr>\n",
              "      <th>69</th>\n",
              "      <td>Bank Rakyat</td>\n",
              "      <td>33.081</td>\n",
              "    </tr>\n",
              "  </tbody>\n",
              "</table>\n",
              "<p>70 rows × 2 columns</p>\n",
              "</div>"
            ],
            "text/plain": [
              "                                       Name  Market Cap (US$ Billion)\n",
              "0                            JPMorgan Chase                   390.934\n",
              "1   Industrial and Commercial Bank of China                   345.214\n",
              "2                           Bank of America                   325.331\n",
              "3                               Wells Fargo                   308.013\n",
              "4                   China Construction Bank                   257.399\n",
              "..                                      ...                       ...\n",
              "65                             Ping An Bank                    37.993\n",
              "66                       Standard Chartered                    37.319\n",
              "67                     United Overseas Bank                    35.128\n",
              "68                                QNB Group                    33.560\n",
              "69                              Bank Rakyat                    33.081\n",
              "\n",
              "[70 rows x 2 columns]"
            ]
          },
          "execution_count": 21,
          "metadata": {},
          "output_type": "execute_result"
        }
      ],
      "source": [
        "extract()"
      ]
    },
    {
      "cell_type": "markdown",
      "metadata": {
        "id": "Kof5rE7bFv8F"
      },
      "source": [
        "<b>Question 1</b> Load the file <code>exchange_rates.csv</code> as a dataframe and find the exchange rate for British pounds with the symbol <code>GBP</code>, store it in the variable  <code>exchange_rate</code>, you will be asked for the number. Hint: set the parameter  <code>index_col</code> to 0.\n"
      ]
    },
    {
      "cell_type": "code",
      "execution_count": null,
      "metadata": {
        "id": "Gj7jdmBrFv8F",
        "outputId": "df00de1f-a21d-4174-c6ee-a12909ecb2f0"
      },
      "outputs": [
        {
          "data": {
            "text/plain": [
              "0.7323984208000001"
            ]
          },
          "execution_count": 14,
          "metadata": {},
          "output_type": "execute_result"
        }
      ],
      "source": [
        "df_exchange_rates = pd.read_csv('exchange_rates.csv', index_col=0)\n",
        "gbp = df_exchange_rates.loc['GBP', 'Rates']\n",
        "gbp"
      ]
    },
    {
      "cell_type": "markdown",
      "metadata": {
        "id": "tPfmVRZuFv8G"
      },
      "source": [
        "## Transform\n",
        "\n",
        "Using <code>exchange_rate</code> and the `exchange_rates.csv` file find the exchange rate of USD to GBP. Write a transform function that\n",
        "\n",
        "1. Changes the `Market Cap (US$ Billion)` column from USD to GBP\n",
        "2. Rounds the Market Cap (US$ Billion)` column to 3 decimal places\n",
        "3. Rename `Market Cap (US$ Billion)` to `Market Cap (GBP$ Billion)`\n"
      ]
    },
    {
      "cell_type": "code",
      "execution_count": null,
      "metadata": {
        "id": "uC_AyFL3Fv8H"
      },
      "outputs": [],
      "source": [
        "def transform(extracted_data):\n",
        "    extracted_data['Market Cap (US$ Billion)'] = round(extracted_data['Market Cap (US$ Billion)'] * gbp, 3)\n",
        "    extracted_data.rename(columns={'Market Cap (US$ Billion)':'Market Cap (GBP$ Billion)'}, inplace=True)\n",
        "    return extracted_data"
      ]
    },
    {
      "cell_type": "markdown",
      "metadata": {
        "id": "IUIgPp5IFv8I"
      },
      "source": [
        "## Load\n",
        "\n",
        "Create a function that takes a dataframe and load it to a csv named `bank_market_cap_gbp.csv`. Make sure to set `index` to `False`.\n"
      ]
    },
    {
      "cell_type": "code",
      "execution_count": null,
      "metadata": {
        "id": "JggIQlxdFv8I"
      },
      "outputs": [],
      "source": [
        "def load(transformed_data):\n",
        "    transformed_data.to_csv('bank_market_cap_gbp.csv', index=False)"
      ]
    },
    {
      "cell_type": "markdown",
      "metadata": {
        "id": "ZnuMu1FXFv8J"
      },
      "source": [
        "## Logging Function\n"
      ]
    },
    {
      "cell_type": "markdown",
      "metadata": {
        "id": "exmcZzyFFv8J"
      },
      "source": [
        "Write the logging function <code>log</code> to log your data:\n"
      ]
    },
    {
      "cell_type": "code",
      "execution_count": null,
      "metadata": {
        "id": "O49LF2dcFv8K"
      },
      "outputs": [],
      "source": [
        "def log(msg):\n",
        "    timestamp_format = '%H:%M:%S-%h-%d-%Y'\n",
        "    now = datetime.now()\n",
        "    timestamp = now.strftime(timestamp_format)\n",
        "    with open('bank_market_cap_logfile.txt', 'a') as f:\n",
        "        f.write(timestamp + ',' + msg + '\\n')"
      ]
    },
    {
      "cell_type": "markdown",
      "metadata": {
        "id": "hwh2L0dMFv8L"
      },
      "source": [
        "## Running the ETL Process\n"
      ]
    },
    {
      "cell_type": "markdown",
      "metadata": {
        "id": "5Woa0KvnFv8L"
      },
      "source": [
        "Log the process accordingly using the following <code>\"ETL Job Started\"</code> and <code>\"Extract phase Started\"</code>\n"
      ]
    },
    {
      "cell_type": "code",
      "execution_count": null,
      "metadata": {
        "id": "ztDTho0LFv8L"
      },
      "outputs": [],
      "source": [
        "# Write your code here\n",
        "log('ETL job started')"
      ]
    },
    {
      "cell_type": "markdown",
      "metadata": {
        "id": "zTXRKnrQFv8M"
      },
      "source": [
        "### Extract\n"
      ]
    },
    {
      "cell_type": "markdown",
      "metadata": {
        "id": "2JrnWRcQFv8N"
      },
      "source": [
        "<code>Question 2</code> Use the function <code>extract</code>, and print the first 5 rows, take a screen shot:\n"
      ]
    },
    {
      "cell_type": "code",
      "execution_count": null,
      "metadata": {
        "id": "_cHXEPmTFv8N",
        "outputId": "185b2639-5ace-4798-ea00-afa4dd843f06"
      },
      "outputs": [
        {
          "data": {
            "text/html": [
              "<div>\n",
              "<style scoped>\n",
              "    .dataframe tbody tr th:only-of-type {\n",
              "        vertical-align: middle;\n",
              "    }\n",
              "\n",
              "    .dataframe tbody tr th {\n",
              "        vertical-align: top;\n",
              "    }\n",
              "\n",
              "    .dataframe thead th {\n",
              "        text-align: right;\n",
              "    }\n",
              "</style>\n",
              "<table border=\"1\" class=\"dataframe\">\n",
              "  <thead>\n",
              "    <tr style=\"text-align: right;\">\n",
              "      <th></th>\n",
              "      <th>Name</th>\n",
              "      <th>Market Cap (US$ Billion)</th>\n",
              "    </tr>\n",
              "  </thead>\n",
              "  <tbody>\n",
              "    <tr>\n",
              "      <th>0</th>\n",
              "      <td>JPMorgan Chase</td>\n",
              "      <td>390.934</td>\n",
              "    </tr>\n",
              "    <tr>\n",
              "      <th>1</th>\n",
              "      <td>Industrial and Commercial Bank of China</td>\n",
              "      <td>345.214</td>\n",
              "    </tr>\n",
              "    <tr>\n",
              "      <th>2</th>\n",
              "      <td>Bank of America</td>\n",
              "      <td>325.331</td>\n",
              "    </tr>\n",
              "    <tr>\n",
              "      <th>3</th>\n",
              "      <td>Wells Fargo</td>\n",
              "      <td>308.013</td>\n",
              "    </tr>\n",
              "    <tr>\n",
              "      <th>4</th>\n",
              "      <td>China Construction Bank</td>\n",
              "      <td>257.399</td>\n",
              "    </tr>\n",
              "  </tbody>\n",
              "</table>\n",
              "</div>"
            ],
            "text/plain": [
              "                                      Name  Market Cap (US$ Billion)\n",
              "0                           JPMorgan Chase                   390.934\n",
              "1  Industrial and Commercial Bank of China                   345.214\n",
              "2                          Bank of America                   325.331\n",
              "3                              Wells Fargo                   308.013\n",
              "4                  China Construction Bank                   257.399"
            ]
          },
          "execution_count": 37,
          "metadata": {},
          "output_type": "execute_result"
        }
      ],
      "source": [
        "# Call the function here\n",
        "extracted_data = extract()\n",
        "\n",
        "# Print the rows here\n",
        "extracted_data.head()"
      ]
    },
    {
      "cell_type": "markdown",
      "metadata": {
        "id": "PYdJthfRFv8O"
      },
      "source": [
        "Log the data as <code>\"Extract phase Ended\"</code>\n"
      ]
    },
    {
      "cell_type": "code",
      "execution_count": null,
      "metadata": {
        "id": "sSlKVlbPFv8U"
      },
      "outputs": [],
      "source": [
        "# Write your code here\n",
        "log('extract phase ended')"
      ]
    },
    {
      "cell_type": "markdown",
      "metadata": {
        "id": "jRvDltrAFv8U"
      },
      "source": [
        "### Transform\n"
      ]
    },
    {
      "cell_type": "markdown",
      "metadata": {
        "id": "N_6FfCd-Fv8V"
      },
      "source": [
        "Log the following  <code>\"Transform phase Started\"</code>\n"
      ]
    },
    {
      "cell_type": "code",
      "execution_count": null,
      "metadata": {
        "id": "IC2KPcZeFv8V"
      },
      "outputs": [],
      "source": [
        "# Write your code here\n",
        "log('transform phase started')"
      ]
    },
    {
      "cell_type": "markdown",
      "metadata": {
        "id": "iWmg7WwpFv8W"
      },
      "source": [
        "<code>Question 3</code> Use the function <code>transform</code> and print the first 5 rows of the output, take a screen shot:\n"
      ]
    },
    {
      "cell_type": "code",
      "execution_count": null,
      "metadata": {
        "id": "HAzAkyPbFv8W",
        "outputId": "9ba9a77e-aca7-41f3-b2c9-25fae8099828"
      },
      "outputs": [
        {
          "data": {
            "text/html": [
              "<div>\n",
              "<style scoped>\n",
              "    .dataframe tbody tr th:only-of-type {\n",
              "        vertical-align: middle;\n",
              "    }\n",
              "\n",
              "    .dataframe tbody tr th {\n",
              "        vertical-align: top;\n",
              "    }\n",
              "\n",
              "    .dataframe thead th {\n",
              "        text-align: right;\n",
              "    }\n",
              "</style>\n",
              "<table border=\"1\" class=\"dataframe\">\n",
              "  <thead>\n",
              "    <tr style=\"text-align: right;\">\n",
              "      <th></th>\n",
              "      <th>Name</th>\n",
              "      <th>Market Cap (GBP$ Billion)</th>\n",
              "    </tr>\n",
              "  </thead>\n",
              "  <tbody>\n",
              "    <tr>\n",
              "      <th>0</th>\n",
              "      <td>JPMorgan Chase</td>\n",
              "      <td>209.700</td>\n",
              "    </tr>\n",
              "    <tr>\n",
              "      <th>1</th>\n",
              "      <td>Industrial and Commercial Bank of China</td>\n",
              "      <td>185.175</td>\n",
              "    </tr>\n",
              "    <tr>\n",
              "      <th>2</th>\n",
              "      <td>Bank of America</td>\n",
              "      <td>174.510</td>\n",
              "    </tr>\n",
              "    <tr>\n",
              "      <th>3</th>\n",
              "      <td>Wells Fargo</td>\n",
              "      <td>165.220</td>\n",
              "    </tr>\n",
              "    <tr>\n",
              "      <th>4</th>\n",
              "      <td>China Construction Bank</td>\n",
              "      <td>138.071</td>\n",
              "    </tr>\n",
              "  </tbody>\n",
              "</table>\n",
              "</div>"
            ],
            "text/plain": [
              "                                      Name  Market Cap (GBP$ Billion)\n",
              "0                           JPMorgan Chase                    209.700\n",
              "1  Industrial and Commercial Bank of China                    185.175\n",
              "2                          Bank of America                    174.510\n",
              "3                              Wells Fargo                    165.220\n",
              "4                  China Construction Bank                    138.071"
            ]
          },
          "execution_count": 40,
          "metadata": {},
          "output_type": "execute_result"
        }
      ],
      "source": [
        "# Call the function here\n",
        "transformed_data = transform(extracted_data)\n",
        "\n",
        "# Print the first 5 rows here\n",
        "transformed_data.head()"
      ]
    },
    {
      "cell_type": "markdown",
      "metadata": {
        "id": "776pYWDjFv8Z"
      },
      "source": [
        "Log your data <code>\"Transform phase Ended\"</code>\n"
      ]
    },
    {
      "cell_type": "code",
      "execution_count": null,
      "metadata": {
        "id": "8ciISSHDFv8a"
      },
      "outputs": [],
      "source": [
        "# Write your code here\n",
        "log('transform phase ended')"
      ]
    },
    {
      "cell_type": "markdown",
      "metadata": {
        "id": "v9c4270LFv8b"
      },
      "source": [
        "### Load\n"
      ]
    },
    {
      "cell_type": "markdown",
      "metadata": {
        "id": "fW6NRR9KFv8b"
      },
      "source": [
        "Log the following `\"Load phase Started\"`.\n"
      ]
    },
    {
      "cell_type": "code",
      "execution_count": null,
      "metadata": {
        "id": "MwZiq85nFv8c"
      },
      "outputs": [],
      "source": [
        "# Write your code here\n",
        "log('load phase started')"
      ]
    },
    {
      "cell_type": "markdown",
      "metadata": {
        "id": "95HQE5PxFv8c"
      },
      "source": [
        "Call the load function\n"
      ]
    },
    {
      "cell_type": "code",
      "execution_count": null,
      "metadata": {
        "id": "kGrMsnbUFv8d"
      },
      "outputs": [],
      "source": [
        "# Write your code here\n",
        "load(transformed_data)"
      ]
    },
    {
      "cell_type": "markdown",
      "metadata": {
        "id": "PhmRmcL5Fv8e"
      },
      "source": [
        "Log the following `\"Load phase Ended\"`.\n"
      ]
    },
    {
      "cell_type": "code",
      "execution_count": null,
      "metadata": {
        "id": "mjtyyE8vFv8f"
      },
      "outputs": [],
      "source": [
        "# Write your code here\n",
        "log('load phase ended')"
      ]
    },
    {
      "cell_type": "markdown",
      "metadata": {
        "id": "7t_joAmJFv8g"
      },
      "source": [
        "## Authors\n"
      ]
    },
    {
      "cell_type": "markdown",
      "metadata": {
        "id": "BiQpUwN9Fv8g"
      },
      "source": [
        "Ramesh Sannareddy, Joseph Santrcangelo and Azim Hirjani\n"
      ]
    },
    {
      "cell_type": "markdown",
      "metadata": {
        "id": "JrbgmXyGFv8h"
      },
      "source": [
        "### Other Contributors\n"
      ]
    },
    {
      "cell_type": "markdown",
      "metadata": {
        "id": "vPpJkj1eFv8h"
      },
      "source": [
        "Rav Ahuja\n"
      ]
    },
    {
      "cell_type": "markdown",
      "metadata": {
        "id": "LapRBK87Fv8i"
      },
      "source": [
        "## Change Log\n"
      ]
    },
    {
      "cell_type": "markdown",
      "metadata": {
        "id": "HKZLdlaFFv8i"
      },
      "source": [
        "| Date (YYYY-MM-DD) | Version | Changed By        | Change Description                 |\n",
        "| ----------------- | ------- | ----------------- | ---------------------------------- |\n",
        "| 2020-11-25        | 0.1     | Ramesh Sannareddy | Created initial version of the lab |\n"
      ]
    },
    {
      "cell_type": "markdown",
      "metadata": {
        "id": "c_e1fjUWFv8j"
      },
      "source": [
        " Copyright © 2020 IBM Corporation. This notebook and its source code are released under the terms of the [MIT License](https://cognitiveclass.ai/mit-license?utm_medium=Exinfluencer&utm_source=Exinfluencer&utm_content=000026UJ&utm_term=10006555&utm_id=NA-SkillsNetwork-Channel-SkillsNetworkCoursesIBMDeveloperSkillsNetworkPY0221ENSkillsNetwork899-2023-01-01&cm_mmc=Email_Newsletter-_-Developer_Ed%2BTech-_-WW_WW-_-SkillsNetwork-Courses-IBM-DA0321EN-SkillsNetwork-21426264&cm_mmca1=000026UJ&cm_mmca2=10006555&cm_mmca3=M12345678&cvosrc=email.Newsletter.M12345678&cvo_campaign=000026UJ).\n"
      ]
    }
  ],
  "metadata": {
    "kernelspec": {
      "display_name": "Python",
      "language": "python",
      "name": "conda-env-python-py"
    },
    "language_info": {
      "codemirror_mode": {
        "name": "ipython",
        "version": 3
      },
      "file_extension": ".py",
      "mimetype": "text/x-python",
      "name": "python",
      "nbconvert_exporter": "python",
      "pygments_lexer": "ipython3",
      "version": "3.7.12"
    },
    "colab": {
      "provenance": [],
      "include_colab_link": true
    }
  },
  "nbformat": 4,
  "nbformat_minor": 0
}