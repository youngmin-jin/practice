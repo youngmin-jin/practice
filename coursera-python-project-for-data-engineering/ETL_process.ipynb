{
  "cells": [
    {
      "cell_type": "markdown",
      "metadata": {
        "id": "view-in-github",
        "colab_type": "text"
      },
      "source": [
        "<a href=\"https://colab.research.google.com/github/youngmin-jin/exercise/blob/main/ETL_process.ipynb\" target=\"_parent\"><img src=\"https://colab.research.google.com/assets/colab-badge.svg\" alt=\"Open In Colab\"/></a>"
      ]
    },
    {
      "cell_type": "markdown",
      "metadata": {
        "id": "Gxw22vzVu9Mq"
      },
      "source": [
        "<p style=\"text-align:center\">\n",
        "    <a href=\"https://skills.network/?utm_medium=Exinfluencer&utm_source=Exinfluencer&utm_content=000026UJ&utm_term=10006555&utm_id=NA-SkillsNetwork-Channel-SkillsNetworkCoursesIBMDeveloperSkillsNetworkPY0221ENSkillsNetwork899-2023-01-01\">\n",
        "    <img src=\"https://cf-courses-data.s3.us.cloud-object-storage.appdomain.cloud/assets/logos/SN_web_lightmode.png\" width=\"200\" alt=\"Skills Network Logo\"  />\n",
        "    </a>\n",
        "</p>\n"
      ]
    },
    {
      "cell_type": "markdown",
      "metadata": {
        "id": "AzdAYhu0u9Mw"
      },
      "source": [
        "# **Extract Transform Load (ETL) Lab**\n"
      ]
    },
    {
      "cell_type": "markdown",
      "metadata": {
        "id": "0pjS8dWHu9NM"
      },
      "source": [
        "## Download Files\n"
      ]
    },
    {
      "cell_type": "code",
      "execution_count": null,
      "metadata": {
        "tags": [],
        "id": "RDj6fazdu9NN",
        "outputId": "b0713042-467f-48c1-c20b-89377ca8e8ff"
      },
      "outputs": [
        {
          "name": "stdout",
          "output_type": "stream",
          "text": [
            "--2023-09-06 03:27:59--  https://cf-courses-data.s3.us.cloud-object-storage.appdomain.cloud/IBMDeveloperSkillsNetwork-PY0221EN-SkillsNetwork/labs/module%206/Lab%20-%20Extract%20Transform%20Load/data/datasource.zip\n",
            "Resolving cf-courses-data.s3.us.cloud-object-storage.appdomain.cloud (cf-courses-data.s3.us.cloud-object-storage.appdomain.cloud)... 169.63.118.104\n",
            "Connecting to cf-courses-data.s3.us.cloud-object-storage.appdomain.cloud (cf-courses-data.s3.us.cloud-object-storage.appdomain.cloud)|169.63.118.104|:443... connected.\n",
            "HTTP request sent, awaiting response... 200 OK\n",
            "Length: 4249 (4.1K) [application/zip]\n",
            "Saving to: ‘datasource.zip.1’\n",
            "\n",
            "datasource.zip.1    100%[===================>]   4.15K  --.-KB/s    in 0s      \n",
            "\n",
            "2023-09-06 03:27:59 (37.1 MB/s) - ‘datasource.zip.1’ saved [4249/4249]\n",
            "\n"
          ]
        }
      ],
      "source": [
        "!wget https://cf-courses-data.s3.us.cloud-object-storage.appdomain.cloud/IBMDeveloperSkillsNetwork-PY0221EN-SkillsNetwork/labs/module%206/Lab%20-%20Extract%20Transform%20Load/data/datasource.zip"
      ]
    },
    {
      "cell_type": "markdown",
      "metadata": {
        "id": "1IB3Tk9Qu9NR"
      },
      "source": [
        "## Unzip Files\n"
      ]
    },
    {
      "cell_type": "code",
      "execution_count": null,
      "metadata": {
        "tags": [],
        "id": "SFWUIwHku9NV",
        "outputId": "50f7f76d-41f2-4dad-ba64-04182c53251f"
      },
      "outputs": [
        {
          "name": "stdout",
          "output_type": "stream",
          "text": [
            "Archive:  datasource.zip\n",
            "caution: filename not matched:  -y\n"
          ]
        }
      ],
      "source": [
        "!unzip datasource.zip -d dealership_data"
      ]
    },
    {
      "cell_type": "code",
      "execution_count": null,
      "metadata": {
        "tags": [],
        "id": "nb-8qCp-u9NX",
        "outputId": "042f80c1-c33d-4f00-d6f6-4eb02db38b6d"
      },
      "outputs": [
        {
          "data": {
            "text/html": [
              "<div>\n",
              "<style scoped>\n",
              "    .dataframe tbody tr th:only-of-type {\n",
              "        vertical-align: middle;\n",
              "    }\n",
              "\n",
              "    .dataframe tbody tr th {\n",
              "        vertical-align: top;\n",
              "    }\n",
              "\n",
              "    .dataframe thead th {\n",
              "        text-align: right;\n",
              "    }\n",
              "</style>\n",
              "<table border=\"1\" class=\"dataframe\">\n",
              "  <thead>\n",
              "    <tr style=\"text-align: right;\">\n",
              "      <th></th>\n",
              "      <th>car_model</th>\n",
              "      <th>year_of_manufacture</th>\n",
              "      <th>price</th>\n",
              "      <th>fuel</th>\n",
              "    </tr>\n",
              "  </thead>\n",
              "  <tbody>\n",
              "    <tr>\n",
              "      <th>0</th>\n",
              "      <td>ritz</td>\n",
              "      <td>2014</td>\n",
              "      <td>5000.000000</td>\n",
              "      <td>Petrol</td>\n",
              "    </tr>\n",
              "    <tr>\n",
              "      <th>1</th>\n",
              "      <td>sx4</td>\n",
              "      <td>2013</td>\n",
              "      <td>7089.552239</td>\n",
              "      <td>Diesel</td>\n",
              "    </tr>\n",
              "    <tr>\n",
              "      <th>2</th>\n",
              "      <td>ciaz</td>\n",
              "      <td>2017</td>\n",
              "      <td>10820.895522</td>\n",
              "      <td>Petrol</td>\n",
              "    </tr>\n",
              "    <tr>\n",
              "      <th>3</th>\n",
              "      <td>wagon r</td>\n",
              "      <td>2011</td>\n",
              "      <td>4253.731343</td>\n",
              "      <td>Petrol</td>\n",
              "    </tr>\n",
              "    <tr>\n",
              "      <th>4</th>\n",
              "      <td>swift</td>\n",
              "      <td>2014</td>\n",
              "      <td>6865.671642</td>\n",
              "      <td>Diesel</td>\n",
              "    </tr>\n",
              "    <tr>\n",
              "      <th>5</th>\n",
              "      <td>vitara brezza</td>\n",
              "      <td>2018</td>\n",
              "      <td>13805.970149</td>\n",
              "      <td>Diesel</td>\n",
              "    </tr>\n",
              "    <tr>\n",
              "      <th>6</th>\n",
              "      <td>ciaz</td>\n",
              "      <td>2015</td>\n",
              "      <td>10074.626866</td>\n",
              "      <td>Petrol</td>\n",
              "    </tr>\n",
              "    <tr>\n",
              "      <th>7</th>\n",
              "      <td>s cross</td>\n",
              "      <td>2015</td>\n",
              "      <td>9701.492537</td>\n",
              "      <td>Diesel</td>\n",
              "    </tr>\n",
              "    <tr>\n",
              "      <th>8</th>\n",
              "      <td>ciaz</td>\n",
              "      <td>2016</td>\n",
              "      <td>13059.701493</td>\n",
              "      <td>Diesel</td>\n",
              "    </tr>\n",
              "    <tr>\n",
              "      <th>9</th>\n",
              "      <td>ciaz</td>\n",
              "      <td>2015</td>\n",
              "      <td>11119.402985</td>\n",
              "      <td>Diesel</td>\n",
              "    </tr>\n",
              "  </tbody>\n",
              "</table>\n",
              "</div>"
            ],
            "text/plain": [
              "       car_model  year_of_manufacture         price    fuel\n",
              "0           ritz                 2014   5000.000000  Petrol\n",
              "1            sx4                 2013   7089.552239  Diesel\n",
              "2           ciaz                 2017  10820.895522  Petrol\n",
              "3        wagon r                 2011   4253.731343  Petrol\n",
              "4          swift                 2014   6865.671642  Diesel\n",
              "5  vitara brezza                 2018  13805.970149  Diesel\n",
              "6           ciaz                 2015  10074.626866  Petrol\n",
              "7        s cross                 2015   9701.492537  Diesel\n",
              "8           ciaz                 2016  13059.701493  Diesel\n",
              "9           ciaz                 2015  11119.402985  Diesel"
            ]
          },
          "execution_count": 16,
          "metadata": {},
          "output_type": "execute_result"
        }
      ],
      "source": [
        "temp = pd.read_csv('dealership_data/used_car_prices1.csv')\n",
        "temp"
      ]
    },
    {
      "cell_type": "code",
      "execution_count": null,
      "metadata": {
        "tags": [],
        "id": "6_Jxunssu9NY",
        "outputId": "7cf7a0ab-f841-4c3f-da47-aa745cb6d5a2"
      },
      "outputs": [
        {
          "data": {
            "text/plain": [
              "Index(['car_model', 'year_of_manufacture', 'price', 'fuel'], dtype='object')"
            ]
          },
          "execution_count": 18,
          "metadata": {},
          "output_type": "execute_result"
        }
      ],
      "source": [
        "temp.columns"
      ]
    },
    {
      "cell_type": "markdown",
      "metadata": {
        "id": "YrIWHYSWu9NZ"
      },
      "source": [
        "## About the Data\n"
      ]
    },
    {
      "cell_type": "markdown",
      "metadata": {
        "id": "JgPChBBfu9Na"
      },
      "source": [
        "The file `dealership_data` contains CSV, JSON, and XML files for used car data which contain features named `car_model`, `year_of_manufacture`, `price`, and `fuel`.\n"
      ]
    },
    {
      "cell_type": "markdown",
      "metadata": {
        "id": "ZSyTuV9cu9Na"
      },
      "source": [
        "## Set Paths\n"
      ]
    },
    {
      "cell_type": "code",
      "execution_count": null,
      "metadata": {
        "tags": [],
        "id": "eofCDdBou9Nb"
      },
      "outputs": [],
      "source": [
        "tmpfile    = \"dealership_temp.tmp\"               # file used to store all extracted data\n",
        "logfile    = \"dealership_logfile.txt\"            # all event logs will be stored in this file\n",
        "targetfile = \"dealership_transformed_data.csv\"   # file where transformed data is stored"
      ]
    },
    {
      "cell_type": "markdown",
      "metadata": {
        "id": "0RhDnoFou9Nc"
      },
      "source": [
        "## Extract\n"
      ]
    },
    {
      "cell_type": "markdown",
      "metadata": {
        "id": "xy46_GqKu9Nd"
      },
      "source": [
        "### Question 1: CSV Extract Function\n"
      ]
    },
    {
      "cell_type": "code",
      "execution_count": null,
      "metadata": {
        "tags": [],
        "id": "JNbS5c2Pu9Nd"
      },
      "outputs": [],
      "source": [
        "# Add the CSV extract function below\n",
        "def extract_csv(filename):\n",
        "    result = pd.read_csv(filename)\n",
        "    return result"
      ]
    },
    {
      "cell_type": "markdown",
      "metadata": {
        "id": "3S1zkCCYu9Ne"
      },
      "source": [
        "<details><summary>Click here for the solution</summary>\n",
        "    \n",
        "```\n",
        "    \n",
        "def extract_from_csv(file_to_process):\n",
        "    dataframe = pd.read_csv(file_to_process)\n",
        "    return dataframe\n",
        "```\n",
        "</details>\n"
      ]
    },
    {
      "cell_type": "markdown",
      "metadata": {
        "id": "gv0ECwV8u9Nf"
      },
      "source": [
        "### Question 2: JSON Extract Function\n"
      ]
    },
    {
      "cell_type": "code",
      "execution_count": null,
      "metadata": {
        "tags": [],
        "id": "6qio0wWXu9Ng"
      },
      "outputs": [],
      "source": [
        "# Add the JSON extract function below\n",
        "def extract_json(filename):\n",
        "    result = pd.read_json(filename, lines=True)\n",
        "    return result"
      ]
    },
    {
      "cell_type": "markdown",
      "metadata": {
        "id": "WmS-vqiWu9Ng"
      },
      "source": [
        "<details><summary>Click here for the solution</summary>\n",
        "    \n",
        "```\n",
        "    \n",
        "def extract_from_json(file_to_process):\n",
        "    dataframe = pd.read_json(file_to_process,lines=True)\n",
        "    return dataframe\n",
        "```\n",
        "</details>\n"
      ]
    },
    {
      "cell_type": "markdown",
      "metadata": {
        "id": "IpKYAuc5u9Nh"
      },
      "source": [
        "### Question 3: XML Extract Function\n"
      ]
    },
    {
      "cell_type": "code",
      "execution_count": null,
      "metadata": {
        "tags": [],
        "id": "mKihWbzru9Ni"
      },
      "outputs": [],
      "source": [
        "# Add the XML extract function below, it is the same as the xml extract function above but the column names need to be renamed.\n",
        "def extract_xml(filename):\n",
        "    result = pd.DataFrame(columns = ['car_model', 'year_of_manufacture', 'price', 'fuel'])\n",
        "    tree = ET.parse(filename)\n",
        "    root = tree.getroot()\n",
        "    for item in root:\n",
        "        car_model = item.find('car_model').text\n",
        "        year_of_manufacture = int(item.find('year_of_manufacture').text)\n",
        "        price = float(item.find('price').text)\n",
        "        fuel = item.find('fuel').text\n",
        "\n",
        "        result = result.append({'car_model':car_model, 'year_of_manufacture':year_of_manufacture, 'price':price, 'fuel':fuel}, ignore_index=True)\n",
        "    return result"
      ]
    },
    {
      "cell_type": "markdown",
      "metadata": {
        "id": "N7MP2CLiu9Nj"
      },
      "source": [
        "<details><summary>Click here for the solution</summary>\n",
        "    \n",
        "```\n",
        "    \n",
        "def extract_from_xml(file_to_process):\n",
        "    dataframe = pd.DataFrame(columns=['car_model','year_of_manufacture','price', 'fuel'])\n",
        "    tree = ET.parse(file_to_process)\n",
        "    root = tree.getroot()\n",
        "    for person in root:\n",
        "        car_model = person.find(\"car_model\").text\n",
        "        year_of_manufacture = int(person.find(\"year_of_manufacture\").text)\n",
        "        price = float(person.find(\"price\").text)\n",
        "        fuel = person.find(\"fuel\").text\n",
        "        dataframe = dataframe.append({\"car_model\":car_model, \"year_of_manufacture\":year_of_manufacture, \"price\":price, \"fuel\":fuel}, ignore_index=True)\n",
        "    return dataframe\n",
        "```\n",
        "</details>\n"
      ]
    },
    {
      "cell_type": "markdown",
      "metadata": {
        "id": "LrjmExn9u9Nk"
      },
      "source": [
        "### Question 4: Extract Function\n",
        "\n",
        "Call the specific extract functions you created above by replacing the `ADD_FUNCTION_CALL` with the proper function call.\n"
      ]
    },
    {
      "cell_type": "code",
      "execution_count": null,
      "metadata": {
        "tags": [],
        "id": "mUC18ZUTu9Nk"
      },
      "outputs": [],
      "source": [
        "def extract():\n",
        "    extracted_data = pd.DataFrame(columns=['car_model', 'year_of_manufacture', 'price', 'fuel'])\n",
        "\n",
        "    for csv_file in glob.glob('dealership_data/*.csv'):\n",
        "        extracted_data = extracted_data.append(extract_csv(csv_file), ignore_index=True)\n",
        "    for json_file in glob.glob('dealership_data/*.json'):\n",
        "        extracted_data = extracted_data.append(extract_json(json_file), ignore_index=True)\n",
        "    for xml_file in glob.glob('dealership_data/*.xml'):\n",
        "        extracted_data = extracted_data.append(extract_xml(xml_file), ignore_index=True)\n",
        "    return extracted_data"
      ]
    },
    {
      "cell_type": "markdown",
      "metadata": {
        "id": "5bYOIzTcu9Nl"
      },
      "source": [
        "<details><summary>Click here for the solution</summary>\n",
        "    \n",
        "```\n",
        "    \n",
        "def extract():\n",
        "    extracted_data = pd.DataFrame(columns=['car_model','year_of_manufacture','price', 'fuel']) # create an empty data frame to hold extracted data\n",
        "    \n",
        "    #process all csv files\n",
        "    for csvfile in glob.glob(\"dealership_data/*.csv\"):\n",
        "        extracted_data = extracted_data.append(extract_from_csv(csvfile), ignore_index=True)\n",
        "        \n",
        "    #process all json files\n",
        "    for jsonfile in glob.glob(\"dealership_data/*.json\"):\n",
        "        extracted_data = extracted_data.append(extract_from_json(jsonfile), ignore_index=True)\n",
        "    \n",
        "    #process all xml files\n",
        "    for xmlfile in glob.glob(\"dealership_data/*.xml\"):\n",
        "        extracted_data = extracted_data.append(extract_from_xml(xmlfile), ignore_index=True)\n",
        "        \n",
        "    return extracted_data\n",
        "```\n",
        "</details>\n"
      ]
    },
    {
      "cell_type": "markdown",
      "metadata": {
        "id": "LYcyGZm7u9Nm"
      },
      "source": [
        "## Transform\n"
      ]
    },
    {
      "cell_type": "markdown",
      "metadata": {
        "id": "NLSZePpRu9Nm"
      },
      "source": [
        "### Question 5: Transform\n",
        "\n",
        "Round the `price` columns to 2 decimal places\n"
      ]
    },
    {
      "cell_type": "code",
      "execution_count": null,
      "metadata": {
        "tags": [],
        "id": "aejVP_ylu9Nn"
      },
      "outputs": [],
      "source": [
        "# Add the transform function below\n",
        "def transform(data):\n",
        "    data['price'] = round(data['price'], 2)\n",
        "    return data"
      ]
    },
    {
      "cell_type": "markdown",
      "metadata": {
        "id": "NAGWTBHOu9No"
      },
      "source": [
        "<details><summary>Click here for the solution</summary>\n",
        "    \n",
        "```\n",
        "\n",
        "def transform(data):\n",
        "        data['price'] = round(data.price, 2)\n",
        "        return data\n",
        "```\n",
        "</details>\n"
      ]
    },
    {
      "cell_type": "markdown",
      "metadata": {
        "id": "OKqzdLyzu9Np"
      },
      "source": [
        "## Loading\n"
      ]
    },
    {
      "cell_type": "markdown",
      "metadata": {
        "id": "NV2PIsfqu9Nq"
      },
      "source": [
        "### Question 6: Load\n"
      ]
    },
    {
      "cell_type": "code",
      "execution_count": null,
      "metadata": {
        "tags": [],
        "id": "k0BIz3yDu9Nq"
      },
      "outputs": [],
      "source": [
        "# Add the load function below\n",
        "def load_file(targetfile, data):\n",
        "    data.to_csv(targetfile)"
      ]
    },
    {
      "cell_type": "markdown",
      "metadata": {
        "id": "p1HNjG4Ku9Nr"
      },
      "source": [
        "<details><summary>Click here for the solution</summary>\n",
        "    \n",
        "```\n",
        "\n",
        "def load(targetfile,data_to_load):\n",
        "    data_to_load.to_csv(targetfile)  \n",
        "```\n",
        "</details>\n"
      ]
    },
    {
      "cell_type": "markdown",
      "metadata": {
        "id": "FlbVNn1nu9Nt"
      },
      "source": [
        "## Logging\n"
      ]
    },
    {
      "cell_type": "markdown",
      "metadata": {
        "id": "M8525Gmvu9Nv"
      },
      "source": [
        "### Question 7: Log\n",
        "\n",
        "Make sure to change the name of the logfile to the one specified in the set paths section. Change the timestamp order to Hour-Minute-Second-Monthname-Day-Year.\n"
      ]
    },
    {
      "cell_type": "code",
      "execution_count": null,
      "metadata": {
        "tags": [],
        "id": "UbcHlX4fu9Nw"
      },
      "outputs": [],
      "source": [
        "# Add the log function below\n",
        "def log(message):\n",
        "    timestamp_format = '%H:%M:%S-%h-%d-%Y'\n",
        "    now = datetime.now()\n",
        "    timestamp = now.strftime(timestamp_format)\n",
        "    with open('dealership_logfile.txt', 'a') as f:\n",
        "        f.write(timestamp + ',' + message + '\\n')"
      ]
    },
    {
      "cell_type": "markdown",
      "metadata": {
        "id": "hn44lII8u9Ny"
      },
      "source": [
        "<details><summary>Click here for the solution</summary>\n",
        "    \n",
        "```\n",
        "\n",
        "def log(message):\n",
        "    timestamp_format = '%H:%M:%S-%h-%d-%Y' #Hour-Minute-Second-MonthName-Day-Year\n",
        "    now = datetime.now() # get current timestamp\n",
        "    timestamp = now.strftime(timestamp_format)\n",
        "    with open(\"dealership_logfile.txt\",\"a\") as f:\n",
        "        f.write(timestamp + ',' + message + '\\n')\n",
        "```\n",
        "</details>\n"
      ]
    },
    {
      "cell_type": "markdown",
      "metadata": {
        "id": "IXZC6R6bu9Nz"
      },
      "source": [
        "## Running ETL Process\n"
      ]
    },
    {
      "cell_type": "markdown",
      "metadata": {
        "id": "u73z__BBu9N0"
      },
      "source": [
        "### Question 8: ETL Process\n",
        "\n",
        "Run all functions to extract, transform, and load the data. Make sure to log all events using the `log` function. Place your code under each comment.\n"
      ]
    },
    {
      "cell_type": "code",
      "execution_count": null,
      "metadata": {
        "tags": [],
        "id": "zFvPpgsBu9N1"
      },
      "outputs": [],
      "source": [
        "# Log that you have started the ETL process\n",
        "log('started ETL process')\n",
        "\n",
        "# Log that you have started the Extract step\n",
        "log('started Extrat step')\n",
        "\n",
        "# Call the Extract function\n",
        "extracted_data = extract()\n",
        "\n",
        "# Log that you have completed the Extract step\n",
        "log('completed Extrat step')\n",
        "\n",
        "# Log that you have started the Transform step\n",
        "log('started Transform step')\n",
        "\n",
        "# Call the Transform function\n",
        "transform(extracted_data)\n",
        "\n",
        "# Log that you have completed the Transform step\n",
        "log('completed Transform step')\n",
        "\n",
        "# Log that you have started the Load step\n",
        "log('started Load step')\n",
        "\n",
        "# Call the Load function\n",
        "load_file(targetfile, extracted_data)\n",
        "\n",
        "# Log that you have completed the Load step\n",
        "log('completed Load step')\n",
        "\n",
        "# Log that you have completed the ETL process\n",
        "log('completed ETL process')"
      ]
    },
    {
      "cell_type": "code",
      "execution_count": null,
      "metadata": {
        "tags": [],
        "id": "AABXhS3cu9N3",
        "outputId": "ab7b46b5-a7c4-4ace-ad52-618c47f286ff"
      },
      "outputs": [
        {
          "name": "stdout",
          "output_type": "stream",
          "text": [
            "ExtractTransformLoad_V2.ipynb  dealership_data\n",
            "datasource.zip\t\t       dealership_logfile.txt\n",
            "datasource.zip.1\t       dealership_transformed_data.csv\n"
          ]
        }
      ],
      "source": [
        "!ls"
      ]
    },
    {
      "cell_type": "code",
      "execution_count": null,
      "metadata": {
        "tags": [],
        "id": "xIekeVYCu9N5",
        "outputId": "ea55e1c6-f9ee-4e11-a8cc-754d05051586"
      },
      "outputs": [
        {
          "data": {
            "text/plain": [
              "'03:48:31-Sep-06-2023,started ETL process\\n03:48:31-Sep-06-2023,started Extrat step\\n03:48:31-Sep-06-2023,completed Extrat step\\n03:48:31-Sep-06-2023,started Transform step\\n03:48:31-Sep-06-2023,completed Transform step\\n03:48:31-Sep-06-2023,started Load step\\n03:48:31-Sep-06-2023,completed Load step\\n03:48:32-Sep-06-2023,completed ETL process\\n'"
            ]
          },
          "execution_count": 35,
          "metadata": {},
          "output_type": "execute_result"
        }
      ],
      "source": [
        "with open('dealership_logfile.txt','r') as f:\n",
        "    logfile = f.read()\n",
        "    f.close()\n",
        "logfile"
      ]
    },
    {
      "cell_type": "code",
      "execution_count": null,
      "metadata": {
        "tags": [],
        "id": "_S3I2DIfu9N8",
        "outputId": "d114d559-8c38-417f-9556-0b0215fdcd1e"
      },
      "outputs": [
        {
          "data": {
            "text/plain": [
              "',car_model,year_of_manufacture,price,fuel\\n0,ritz,2014,5000.0,Petrol\\n1,sx4,2013,7089.55,Diesel\\n2,ciaz,2017,10820.9,Petrol\\n3,wagon r,2011,4253.73,Petrol\\n4,swift,2014,6865.67,Diesel\\n5,vitara brezza,2018,13805.97,Diesel\\n6,ciaz,2015,10074.63,Petrol\\n7,s cross,2015,9701.49,Diesel\\n8,ciaz,2016,13059.7,Diesel\\n9,ciaz,2015,11119.4,Diesel\\n10,alto 800,2017,4253.73,Petrol\\n11,ciaz,2015,10223.88,Diesel\\n12,ciaz,2015,11194.03,Petrol\\n13,ertiga,2015,9104.48,Petrol\\n14,dzire,2009,3358.21,Petrol\\n15,ertiga,2016,11567.16,Diesel\\n16,ertiga,2015,10820.9,Diesel\\n17,ertiga,2016,11567.16,Diesel\\n18,wagon r,2015,4850.75,CNG\\n19,sx4,2010,3955.22,Petrol\\n20,alto k10,2016,4253.73,Petrol\\n21,ignis,2017,7313.43,Petrol\\n22,sx4,2011,6567.16,Petrol\\n23,alto k10,2014,3731.34,Petrol\\n24,wagon r,2013,4328.36,Petrol\\n25,swift,2011,4477.61,Petrol\\n26,swift,2013,6194.03,Petrol\\n27,swift,2017,8955.22,Petrol\\n28,alto k10,2010,2910.45,Petrol\\n29,ciaz,2015,11119.4,Diesel\\n30,ritz,2012,4626.87,Diesel\\n31,ritz,2011,3507.46,Petrol\\n32,swift,2014,7388.06,Diesel\\n33,ertiga,2014,8955.22,Diesel\\n34,dzire,2014,8208.96,Diesel\\n35,sx4,2011,4402.99,CNG\\n36,dzire,2015,6940.3,Petrol\\n37,800,2003,522.39,Petrol\\n38,alto k10,2016,4477.61,Petrol\\n39,sx4,2003,3358.21,Petrol\\n40,baleno,2016,8731.34,Petrol\\n41,alto k10,2014,3805.97,Petrol\\n42,sx4,2008,2910.45,Petrol\\n43,dzire,2014,8208.96,Diesel\\n44,omni,2012,1865.67,Petrol\\n45,ciaz,2014,11194.03,Petrol\\n46,ritz,2013,3955.22,Petrol\\n47,wagon r,2006,1567.16,Petrol\\n48,ertiga,2015,8656.72,Petrol\\n49,ciaz,2017,11567.16,Petrol\\n50,fortuner,2012,22238.81,Diesel\\n51,fortuner,2015,34328.36,Diesel\\n52,innova,2017,26865.67,Diesel\\n53,fortuner,2013,23880.6,Diesel\\n54,innova,2005,4104.48,Petrol\\n55,corolla altis,2009,5373.13,Petrol\\n56,etios cross,2015,6716.42,Petrol\\n57,corolla altis,2010,7089.55,Petrol\\n58,etios g,2014,6119.4,Petrol\\n59,fortuner,2014,29835.82,Diesel\\n60,corolla altis,2013,10373.13,Petrol\\n61,etios cross,2015,6716.42,Petrol\\n62,fortuner,2014,27985.07,Diesel\\n63,fortuner,2015,35074.63,Diesel\\n64,fortuner,2017,49253.73,Diesel\\n65,etios liva,2014,7089.55,Diesel\\n66,innova,2017,29477.61,Petrol\\n67,fortuner,2010,13805.97,Diesel\\n68,corolla altis,2011,6492.54,Petrol\\n69,corolla altis,2016,21268.66,Petrol\\n70,etios liva,2014,5895.52,Diesel\\n71,corolla altis,2011,6716.42,Diesel\\n72,corolla altis,2013,11119.4,Petrol\\n73,etios liva,2011,3955.22,Petrol\\n74,etios cross,2014,7313.43,Diesel\\n75,etios g,2015,5895.52,Petrol\\n76,corolla altis,2013,8208.96,Petrol\\n77,corolla,2004,2238.81,Petrol\\n78,corolla altis,2010,7835.82,Petrol\\n79,fortuner,2012,21641.79,Diesel\\n80,corolla altis,2016,21985.07,Diesel\\n81,etios gd,2015,7089.55,Diesel\\n82,innova,2017,34328.36,Diesel\\n83,innova,2015,18656.72,Diesel\\n84,innova,2005,5208.96,Diesel\\n85,camry,2006,3731.34,Petrol\\n86,land cruiser,2010,52238.81,Diesel\\n87,corolla altis,2012,8805.97,Petrol\\n88,etios liva,2013,5149.25,Petrol\\n89,etios g,2014,7089.55,Petrol\\n'"
            ]
          },
          "execution_count": 37,
          "metadata": {},
          "output_type": "execute_result"
        }
      ],
      "source": [
        "with open('dealership_transformed_data.csv','r') as f:\n",
        "    data = f.read()\n",
        "    f.close()\n",
        "data"
      ]
    },
    {
      "cell_type": "markdown",
      "metadata": {
        "id": "RaczfReDu9N-"
      },
      "source": [
        "<details><summary>Click here for the solution</summary>\n",
        "    \n",
        "```\n",
        "\n",
        "log(\"ETL Job Started\")\n",
        "\n",
        "log(\"Extract phase Started\")\n",
        "extracted_data = extract()\n",
        "log(\"Extract phase Ended\")\n",
        "\n",
        "log(\"Transform phase Started\")\n",
        "transformed_data = transform(extracted_data)\n",
        "log(\"Transform phase Ended\")\n",
        "\n",
        "log(\"Load phase Started\")\n",
        "load(targetfile,transformed_data)\n",
        "log(\"Load phase Ended\")\n",
        "\n",
        "log(\"ETL Job Ended\")\n",
        "```\n",
        "</details>\n"
      ]
    },
    {
      "cell_type": "markdown",
      "metadata": {
        "id": "jzHuSqwwu9OA"
      },
      "source": [
        "## Authors\n"
      ]
    },
    {
      "cell_type": "markdown",
      "metadata": {
        "id": "M6pnuHrhu9OC"
      },
      "source": [
        "Ramesh Sannareddy\n",
        "\n",
        "Joseph Santarcangelo\n",
        "\n",
        "Azim Hirjani\n"
      ]
    },
    {
      "cell_type": "markdown",
      "metadata": {
        "id": "6S1UNDsRu9OD"
      },
      "source": [
        "## Change Log\n"
      ]
    },
    {
      "cell_type": "markdown",
      "metadata": {
        "id": "pRz-5hViu9OD"
      },
      "source": [
        "| Date (YYYY-MM-DD) | Version | Changed By        | Change Description                 |\n",
        "| ----------------- | ------- | ----------------- | ---------------------------------- |\n",
        "| 2020-11-25        | 0.1     | Ramesh Sannareddy | Created initial version of the lab |\n"
      ]
    },
    {
      "cell_type": "markdown",
      "metadata": {
        "id": "a5OxVxX6u9OE"
      },
      "source": [
        " Copyright © 2020 IBM Corporation. This notebook and its source code are released under the terms of the [MIT License](https://cognitiveclass.ai/mit-license?utm_medium=Exinfluencer&utm_source=Exinfluencer&utm_content=000026UJ&utm_term=10006555&utm_id=NA-SkillsNetwork-Channel-SkillsNetworkCoursesIBMDeveloperSkillsNetworkPY0221ENSkillsNetwork899-2023-01-01&cm_mmc=Email_Newsletter-_-Developer_Ed%2BTech-_-WW_WW-_-SkillsNetwork-Courses-IBMDeveloperSkillsNetwork-PY0221EN-SkillsNetwork-23455645&cm_mmca1=000026UJ&cm_mmca2=10006555&cm_mmca3=M12345678&cvosrc=email.Newsletter.M12345678&cvo_campaign=000026UJ).\n"
      ]
    }
  ],
  "metadata": {
    "kernelspec": {
      "display_name": "Python",
      "language": "python",
      "name": "conda-env-python-py"
    },
    "language_info": {
      "codemirror_mode": {
        "name": "ipython",
        "version": 3
      },
      "file_extension": ".py",
      "mimetype": "text/x-python",
      "name": "python",
      "nbconvert_exporter": "python",
      "pygments_lexer": "ipython3",
      "version": "3.7.12"
    },
    "colab": {
      "provenance": [],
      "include_colab_link": true
    }
  },
  "nbformat": 4,
  "nbformat_minor": 0
}